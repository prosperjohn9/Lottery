{
  "nbformat": 4,
  "nbformat_minor": 0,
  "metadata": {
    "colab": {
      "provenance": [],
      "authorship_tag": "ABX9TyMfXolCrKoqFFpgF/V9JlTc",
      "include_colab_link": true
    },
    "kernelspec": {
      "name": "python3",
      "display_name": "Python 3"
    },
    "language_info": {
      "name": "python"
    }
  },
  "cells": [
    {
      "cell_type": "markdown",
      "metadata": {
        "id": "view-in-github",
        "colab_type": "text"
      },
      "source": [
        "<a href=\"https://colab.research.google.com/github/prosperjohn9/Lottery/blob/main/Lottery.ipynb\" target=\"_parent\"><img src=\"https://colab.research.google.com/assets/colab-badge.svg\" alt=\"Open In Colab\"/></a>"
      ]
    },
    {
      "cell_type": "markdown",
      "source": [
        "We will generate a Sayısal Loto coupon with n columns.\n",
        "\n",
        "n will be given by the user as an input.\n",
        "\n",
        "We will generate 6 different numbers randomly for each column.\n",
        "\n",
        "We will display the ticket in a tab-delaminated format:\n",
        "- Each column will be displayed on a separate line\n",
        "- Each line will start with a capital letter proceeded by a dot, in the ascending order of the English alphabet\n",
        "- Values in each column will be separated by a single horizontal tab character"
      ],
      "metadata": {
        "id": "SHerkSbwahrA"
      }
    },
    {
      "cell_type": "code",
      "execution_count": null,
      "metadata": {
        "colab": {
          "base_uri": "https://localhost:8080/"
        },
        "id": "sAP9dBLER3EA",
        "outputId": "5a8d64ab-5819-471d-b645-329cfb199ec1"
      },
      "outputs": [
        {
          "output_type": "stream",
          "name": "stdout",
          "text": [
            "Please enter the number of columns to be generated: 6\n",
            "A.\t12\t14\t18\t28\t38\t39\t\n",
            "B.\t1\t5\t12\t29\t46\t48\t\n",
            "C.\t7\t11\t12\t16\t19\t45\t\n",
            "D.\t2\t5\t18\t28\t30\t43\t\n",
            "E.\t6\t15\t28\t37\t45\t49\t\n",
            "F.\t19\t31\t34\t37\t41\t44\t\n"
          ]
        }
      ],
      "source": [
        "import random as rand # Library for random number generation\n",
        "\n",
        "# Get the number of columns to be generated from the user\n",
        "numColumns = int(input(\"Please enter the number of columns to be generated: \"))\n",
        "\n",
        "coupon = [] # Initialize an empty list to store the columns\n",
        "\n",
        "# There should be numColumns number of columns\n",
        "for x in range(numColumns):\n",
        "\n",
        "  column = [] # Initialize an empty list to store the numbers\n",
        "  while len(column) < 6:   # There should be at most 6 numbers to be selected\n",
        "     num = rand.randint(1, 50) # Numbers should be between 1 and 49\n",
        "     if num not in column:  # Numbers should be unique\n",
        "      column.append(num)   # Add valid number to list\n",
        "  column.sort()  # Sort the list\n",
        "\n",
        "  coupon.append(column) # Insert the column to the ticket list\n",
        "\n",
        "# Display the ticket in a tab (\\t) deliminated format\n",
        "idx = 0\n",
        "for column in coupon:\n",
        "  print(chr(ord(\"A\") + idx) + \".\", end=\"\\t\")\n",
        "  idx += 1\n",
        "  for number in column:\n",
        "    print(number, end=\"\\t\")\n",
        "  print()"
      ]
    }
  ]
}